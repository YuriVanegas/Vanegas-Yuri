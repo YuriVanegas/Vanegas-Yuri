{
  "cells": [
    {
      "cell_type": "code",
      "execution_count": null,
      "metadata": {
        "id": "7dM3gIxiJybx"
      },
      "outputs": [],
      "source": [
        "import math\n",
        "import random\n"
      ]
    },
    {
      "cell_type": "code",
      "execution_count": null,
      "metadata": {
        "id": "m_6RCVPGDprN",
        "outputId": "71c553ff-2b74-46a2-a6ce-e50645b17530"
      },
      "outputs": [
        {
          "name": "stdout",
          "output_type": "stream",
          "text": [
            "¡Ganaste!\n"
          ]
        }
      ],
      "source": [
        "import random\n",
        "\n",
        "def play():\n",
        "    user = input(\" ¿Qué vas a usar? 'piedra','papel','tijeras' \")\n",
        "    computer = random.choice (['piedra', 'papel', 'tijeras'])\n",
        "\n",
        "    if user == computer:\n",
        "        return 'Es un Empate'\n",
        "\n",
        "    if is_win(user, computer):\n",
        "        return '¡Ganaste!'\n",
        "    return '¡Perdiste!'\n",
        "\n",
        "def is_win(player, opponent):\n",
        "    if (player == 'piedra' and opponent == 'tijeras') or (player == 'tijeras' and opponent == 'papel') \\\n",
        "        or (player == 'papel' and opponent == 'tijeras'):\n",
        "        return True\n",
        "\n",
        "print(play())"
      ]
    },
    {
      "cell_type": "code",
      "execution_count": null,
      "metadata": {
        "id": "hkDv_vCLDprO",
        "outputId": "c4ec373b-9d7f-488c-f35c-1aa2189efea6"
      },
      "outputs": [
        {
          "name": "stdout",
          "output_type": "stream",
          "text": [
            "ronda 1:\n",
            "¡Perdiste!\n",
            "\n",
            "ronda 2:\n",
            "¡Perdiste!\n",
            "\n",
            "ronda 3:\n",
            "¡Perdiste!\n",
            "\n",
            "ronda 4:\n",
            "¡Perdiste!\n",
            "\n",
            "ronda 5:\n",
            "¡Perdiste!\n",
            "\n"
          ]
        }
      ],
      "source": [
        "for i in range(5):\n",
        "    print(f\"ronda {i + 1}:\")\n",
        "    resultado = play()\n",
        "    print(resultado)\n",
        "    print()"
      ]
    },
    {
      "cell_type": "code",
      "execution_count": 2,
      "metadata": {
        "id": "IGPiJP0qDprO",
        "outputId": "7958563e-5bc0-4501-936c-9062245ff50c"
      },
      "outputs": [
        {
          "name": "stdout",
          "output_type": "stream",
          "text": [
            "e0!-w%,.\n"
          ]
        }
      ],
      "source": [
        "\n",
        "# !\"#$%&()*+,-./0123456789?@ABCDEFGHIJKLMNOPQRSTUVWXYZabcdefghijklmnopqrstuvwxyz\n",
        "\n",
        "\n",
        "\n",
        "import random\n",
        "random.seed(1234)\n",
        "chars = '!\"#$%&()*+,-./0123456789?@ABCDEFGHIJKLMNOPQRSTUVWXYZabcdefghijklmnopqrstuvwxyz'\n",
        "password = ''\n",
        "\n",
        "lengthPW = int(input('que longitud quieres para tu pw'))\n",
        "\n",
        "for _ in range(lengthPW):\n",
        "\n",
        "    password += random.choice(chars)\n",
        "\n",
        "print(password)"
      ]
    },
    {
      "cell_type": "code",
      "execution_count": 3,
      "metadata": {},
      "outputs": [
        {
          "name": "stdout",
          "output_type": "stream",
          "text": [
            "contraseña incorrecta , introduzca una contraseña correcta\n",
            "contraseña correcta\n"
          ]
        }
      ],
      "source": [
        "contraseña = \"computadora\"\n",
        "contador = 0\n",
        "\n",
        "while True:\n",
        "    contraseña_input = input(\"introduzca una contraseña\")\n",
        "    contador +=1\n",
        "    \n",
        "    if contador > 3:\n",
        "        print(\"haz sobrepasado los intentos\")\n",
        "        \n",
        "    elif contraseña_input == \"computadora\":\n",
        "        print(\"contraseña correcta\")\n",
        "        break\n",
        "    \n",
        "    else:\n",
        "        print(\"contraseña incorrecta , introduzca una contraseña correcta\")"
      ]
    }
  ],
  "metadata": {
    "colab": {
      "provenance": []
    },
    "kernelspec": {
      "display_name": "Python 3",
      "name": "python3"
    },
    "language_info": {
      "codemirror_mode": {
        "name": "ipython",
        "version": 3
      },
      "file_extension": ".py",
      "mimetype": "text/x-python",
      "name": "python",
      "nbconvert_exporter": "python",
      "pygments_lexer": "ipython3",
      "version": "3.12.5"
    }
  },
  "nbformat": 4,
  "nbformat_minor": 0
}
